{
  "nbformat": 4,
  "nbformat_minor": 0,
  "metadata": {
    "colab": {
      "provenance": []
    },
    "kernelspec": {
      "name": "python3",
      "display_name": "Python 3"
    },
    "language_info": {
      "name": "python"
    }
  },
  "cells": [
    {
      "cell_type": "code",
      "source": [
        "class Human:\n",
        "    def __init__(self, name, age):\n",
        "        self.name = name\n",
        "        self.age = age\n",
        "\n",
        "    def printinfo(self):\n",
        "        print(f\"Name: {self.name}, Age: {self.age}\")\n",
        "\n",
        "# Humanクラスのインスタンスを作成し、使用例を示します\n",
        "person = Human(\"Alice\", 30)\n",
        "person.printinfo()\n",
        "\n",
        "\n"
      ],
      "metadata": {
        "colab": {
          "base_uri": "https://localhost:8080/"
        },
        "id": "ZQ4n8pxGYofN",
        "outputId": "c32cb872-29d9-4d5e-fee8-8948fb0f11e4"
      },
      "execution_count": 8,
      "outputs": [
        {
          "output_type": "stream",
          "name": "stdout",
          "text": [
            "Name: Alice, Age: 30\n"
          ]
        }
      ]
    },
    {
      "cell_type": "code",
      "source": [],
      "metadata": {
        "id": "mKvfmWetZN--"
      },
      "execution_count": null,
      "outputs": []
    }
  ]
}