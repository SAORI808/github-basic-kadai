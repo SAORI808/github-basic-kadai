{
  "nbformat": 4,
  "nbformat_minor": 0,
  "metadata": {
    "colab": {
      "provenance": [],
      "toc_visible": true
    },
    "kernelspec": {
      "name": "python3",
      "display_name": "Python 3"
    },
    "language_info": {
      "name": "python"
    }
  },
  "cells": [
    {
      "cell_type": "code",
      "source": [
        "# varに任意の正の整数を代入\n",
        "var = 15\n",
        "\n",
        "# 条件分岐の開始\n",
        "if var % 3 == 0 and var % 5 == 0:\n",
        "    print(\"FizzBuzz\")\n",
        "elif var % 3 == 0:\n",
        "    print(\"Fizz\")\n",
        "elif var % 5 == 0:\n",
        "    print(\"Buzz\")\n",
        "else:\n",
        "    print(var)\n"
      ],
      "metadata": {
        "colab": {
          "base_uri": "https://localhost:8080/"
        },
        "id": "jumItUC96zvI",
        "outputId": "f7022d09-972c-490a-e964-8dc634072231"
      },
      "execution_count": 13,
      "outputs": [
        {
          "output_type": "stream",
          "name": "stdout",
          "text": [
            "FizzBuzz\n"
          ]
        }
      ]
    }
  ]
}