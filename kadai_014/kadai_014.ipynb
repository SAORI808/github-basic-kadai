{
  "nbformat": 4,
  "nbformat_minor": 0,
  "metadata": {
    "colab": {
      "provenance": []
    },
    "kernelspec": {
      "name": "python3",
      "display_name": "Python 3"
    },
    "language_info": {
      "name": "python"
    }
  },
  "cells": [
    {
      "source": [
        "price1 = 100\n",
        "price2 = 200\n",
        "\n",
        "def total():\n",
        "    tax = 1.1 # tax is defined in the local scope of the function\n",
        "    return price1 + price2\n",
        "\n",
        "total_price = total() # Call the function and store the result\n",
        "tax = 1.1 # Define tax in the global scope\n",
        "print (total_price * tax) # Access the global variable tax"
      ],
      "cell_type": "code",
      "metadata": {
        "colab": {
          "base_uri": "https://localhost:8080/"
        },
        "id": "czGKAXC95_ON",
        "outputId": "348e81d0-80b8-4eaa-9145-442ed6113672"
      },
      "execution_count": 2,
      "outputs": [
        {
          "output_type": "stream",
          "name": "stdout",
          "text": [
            "330.0\n"
          ]
        }
      ]
    }
  ]
}