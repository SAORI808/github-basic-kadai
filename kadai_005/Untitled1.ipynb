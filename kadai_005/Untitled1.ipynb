{
  "nbformat": 4,
  "nbformat_minor": 0,
  "metadata": {
    "colab": {
      "provenance": []
    },
    "kernelspec": {
      "name": "python3",
      "display_name": "Python 3"
    },
    "language_info": {
      "name": "python"
    }
  },
  "cells": [
    {
      "cell_type": "code",
      "execution_count": 1,
      "metadata": {
        "colab": {
          "base_uri": "https://localhost:8080/"
        },
        "id": "9TF9k3RGoyQ2",
        "outputId": "2eeb8892-9f1b-406e-cfa2-5a1c16912931"
      },
      "outputs": [
        {
          "output_type": "stream",
          "name": "stdout",
          "text": [
            "75.0cm²\n"
          ]
        }
      ],
      "source": [
        "# 台形の各辺の長さを定義\n",
        "number1 = 10  # 上辺の長さ(cm)\n",
        "number2 = 20  # 下辺の長さ(cm)\n",
        "number3 = 5  # 高さ(cm)\n",
        "\n",
        "# 台形の面積の計算式\n",
        "number4 = (number1 + number2) * number3 / 2\n",
        "\n",
        "# 結果の出力\n",
        "print(f\"{number4}cm²\")"
      ]
    }
  ]
}