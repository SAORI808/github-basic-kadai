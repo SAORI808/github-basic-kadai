{
  "nbformat": 4,
  "nbformat_minor": 0,
  "metadata": {
    "colab": {
      "provenance": []
    },
    "kernelspec": {
      "name": "python3",
      "display_name": "Python 3"
    },
    "language_info": {
      "name": "python"
    }
  },
  "cells": [
    {
      "cell_type": "code",
      "source": [
        "# 商品購入時の金額に消費税を加えた金額を計算して返す関数\n",
        "def calculate_total_price(price, tax_rate):\n",
        "    # 消費税を加えた合計金額を計算\n",
        "    total_price = price + (price * tax_rate / 100)\n",
        "    # 計算結果を返す\n",
        "    return total_price\n",
        "\n",
        "# 商品の金額を1000円に設定\n",
        "price = 1000.0\n",
        "\n",
        "# 消費税率（10%）を設定\n",
        "tax_rate = 10.0\n",
        "\n",
        "# 関数を使用して合計金額を計算\n",
        "total_price = calculate_total_price(price, tax_rate)\n",
        "\n",
        "# 結果を表示\n",
        "print(f\"{total_price}円\")\n"
      ],
      "metadata": {
        "colab": {
          "base_uri": "https://localhost:8080/"
        },
        "id": "c9oThKrggrlu",
        "outputId": "34c864fa-963a-416e-c3c7-d8036c770888"
      },
      "execution_count": 19,
      "outputs": [
        {
          "output_type": "stream",
          "name": "stdout",
          "text": [
            "1100.0円\n"
          ]
        }
      ]
    }
  ]
}