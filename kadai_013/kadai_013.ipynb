{
  "nbformat": 4,
  "nbformat_minor": 0,
  "metadata": {
    "colab": {
      "provenance": []
    },
    "kernelspec": {
      "name": "python3",
      "display_name": "Python 3"
    },
    "language_info": {
      "name": "python"
    }
  },
  "cells": [
    {
      "cell_type": "code",
      "source": [
        "# 消費税を加えた計算結果を返す関数を記述する\n",
        "#第1引数に商品の金額、第2引数に消費税（10%）を設定する\n",
        "def calculate_total_with_tax(price,tax_rate=0.10):\n",
        "    # 与えられた引数priceに送料を加算し、変数totalに代入する\n",
        "    total = price * 1.1\n",
        "\n",
        "    # 変数totalの値を出力する\n",
        "    print(f\"{total_price} 円\")\n",
        "\n",
        "# 関数を呼び出し、引数として購入金額を渡す\n",
        "calculate_total(1200)\n"
      ],
      "metadata": {
        "colab": {
          "base_uri": "https://localhost:8080/"
        },
        "id": "jteUAChpaqwp",
        "outputId": "668d837a-88fe-4968-d2c8-f22cd06ca09e"
      },
      "execution_count": 17,
      "outputs": [
        {
          "output_type": "stream",
          "name": "stdout",
          "text": [
            "1700円\n"
          ]
        }
      ]
    }
  ]
}