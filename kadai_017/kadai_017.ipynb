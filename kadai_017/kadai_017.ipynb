{
  "nbformat": 4,
  "nbformat_minor": 0,
  "metadata": {
    "colab": {
      "provenance": []
    },
    "kernelspec": {
      "name": "python3",
      "display_name": "Python 3"
    },
    "language_info": {
      "name": "python"
    }
  },
  "cells": [
    {
      "cell_type": "code",
      "execution_count": 2,
      "metadata": {
        "colab": {
          "base_uri": "https://localhost:8080/"
        },
        "id": "dTngX7uhndn5",
        "outputId": "b6bdf819-cab2-49cb-adec-389b52c740e7"
      },
      "outputs": [
        {
          "output_type": "stream",
          "name": "stdout",
          "text": [
            "太郎は大人です。\n",
            "花子は大人ではありません。\n",
            "次郎は大人です。\n",
            "三郎は大人ではありません。\n",
            "四郎は大人です。\n"
          ]
        }
      ],
      "source": [
        "# 名前(name)と年齢(age)の属性を持つHumanクラス\n",
        "class Human:\n",
        "    def __init__(self, name, age):\n",
        "        self.name = name\n",
        "        self.age = age\n",
        "\n",
        "#check_adultメソッド\n",
        "#ageが20以上の場合に大人であること\n",
        "    def check_adult(self):\n",
        "        if self.age >= 20:\n",
        "            print(f\"{self.name}は大人です。\")\n",
        "        else:\n",
        "            print(f\"{self.name}は大人ではありません。\")\n",
        "\n",
        "# 複数のインスタンスを生成\n",
        "people = [\n",
        "    Human(\"太郎\", 25),\n",
        "    Human(\"花子\", 19),\n",
        "    Human(\"次郎\", 20),\n",
        "    Human(\"三郎\", 18),\n",
        "    Human(\"四郎\", 28)\n",
        "]\n",
        "\n",
        "# リストの要素数分だけcheck_adultメソッドを呼び出す\n",
        "for person in people:\n",
        "    person.check_adult()\n"
      ]
    },
    {
      "cell_type": "code",
      "source": [],
      "metadata": {
        "id": "CQJMnXFqoJVM"
      },
      "execution_count": null,
      "outputs": []
    }
  ]
}